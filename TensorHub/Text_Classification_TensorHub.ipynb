{
 "cells": [
  {
   "cell_type": "markdown",
   "metadata": {},
   "source": [
    "# Text Classification using TensorHub\n",
    "\n",
    "This example covers list of below things:\n",
    "\n",
    "1. How to import libraries?\n",
    "2. Load and Split the datasets from TensorFlow Datasets\n",
    "3. Build the model and Apply Pre-trained Embeddings from TensorHub\n",
    "4. Loss function and optimization\n",
    "5. Evaluate the model\n",
    "6. Save the model - (SavedModel & HDF5)\n",
    "7. Load the saved model - (SavedModel & HDF5)\n",
    "\n",
    "### Datasets\n",
    "\n",
    "* The IMDB dataset is available on [imdb reviews](https://www.tensorflow.org/datasets/catalog/imdb_reviews) or on TensorFlow datasets.\n",
    "\n",
    "## Import relevant libraries, frameworks etc."
   ]
  },
  {
   "cell_type": "code",
   "execution_count": 74,
   "metadata": {
    "scrolled": false
   },
   "outputs": [
    {
     "name": "stdout",
     "output_type": "stream",
     "text": [
      "Tensorflow version:  2.1.0\n",
      "Eager mode:  True\n",
      "TensorHub version:  0.7.0\n",
      "GPU is NOT AVAILABLE\n"
     ]
    }
   ],
   "source": [
    "!pip install -q tensorflow\n",
    "!pip install -q tfds-nightly\n",
    "!pip install -q tensorflow-hub\n",
    "\n",
    "import tensorflow as tf\n",
    "import tensorflow_hub as hub\n",
    "import tensorflow_datasets as tfds\n",
    "from tensorflow.keras.models import Sequential, load_model\n",
    "from tensorflow.keras.layers import Dense\n",
    "\n",
    "print(\"Tensorflow version: \", tf.__version__)\n",
    "print(\"Eager mode: \", tf.executing_eagerly())\n",
    "print(\"TensorHub version: \", hub.__version__)\n",
    "print(\"GPU is\", \"available\" if tf.config.experimental.list_physical_devices(\"GPU\") else \"NOT AVAILABLE\")"
   ]
  },
  {
   "cell_type": "markdown",
   "metadata": {},
   "source": [
    "## Load and Split the datasets\n",
    "\n",
    "* Downloads the IMDB dataset to your machine (Note: Uses a cached copy if you've already downloaded it).\n",
    "* Split the training set into 60% and 40%, so we'll end up with:\n",
    "    * ~15,000 examples for **Training**\n",
    "    * ~10,000 examples for **Validation**\n",
    "    * ~25,000 examples for **Testing**\n",
    "    \n",
    "References:\n",
    "\n",
    "* https://www.tensorflow.org/datasets/api_docs/python/tfds/load"
   ]
  },
  {
   "cell_type": "code",
   "execution_count": 75,
   "metadata": {
    "scrolled": true
   },
   "outputs": [],
   "source": [
    "train_data, validation_data, test_data = tfds.load(\n",
    "    name=\"imdb_reviews\", \n",
    "    split=('train[:60%]', 'train[60%:]', 'test'),\n",
    "    as_supervised=True\n",
    ")"
   ]
  },
  {
   "cell_type": "markdown",
   "metadata": {},
   "source": [
    "Understand the format of the data and print 1st 2 examples:\n",
    "\n",
    "* Each example is a sentence representing the movie review and a corresponding label.\n",
    "* The sentence is not preprocessed in any way.\n",
    "* The label is an integer value of either 0 or 1, where 0 is a negative review, and 1 is a positive review."
   ]
  },
  {
   "cell_type": "code",
   "execution_count": 76,
   "metadata": {
    "scrolled": true
   },
   "outputs": [
    {
     "name": "stdout",
     "output_type": "stream",
     "text": [
      "tf.Tensor(\n",
      "[b\"This was an absolutely terrible movie. Don't be lured in by Christopher Walken or Michael Ironside. Both are great actors, but this must simply be their worst role in history. Even their great acting could not redeem this movie's ridiculous storyline. This movie is an early nineties US propaganda piece. The most pathetic scenes were those when the Columbian rebels were making their cases for revolutions. Maria Conchita Alonso appeared phony, and her pseudo-love affair with Walken was nothing but a pathetic emotional plug in a movie that was devoid of any real meaning. I am disappointed that there are movies like this, ruining actor's like Christopher Walken's good name. I could barely sit through it.\"\n",
      " b'I have been known to fall asleep during films, but this is usually due to a combination of things including, really tired, being warm and comfortable on the sette and having just eaten a lot. However on this occasion I fell asleep because the film was rubbish. The plot development was constant. Constantly slow and boring. Things seemed to happen, but with no explanation of what was causing them or why. I admit, I may have missed part of the film, but i watched the majority of it and everything just seemed to happen of its own accord without any real concern for anything else. I cant recommend this film at all.'], shape=(2,), dtype=string)\n",
      "\n",
      "\n",
      "tf.Tensor([0 0], shape=(2,), dtype=int64)\n"
     ]
    }
   ],
   "source": [
    "train_examples_batch, train_labels_batch = next(iter(train_data.batch(2)))\n",
    "print(train_examples_batch)\n",
    "print('\\n')\n",
    "print(train_labels_batch)"
   ]
  },
  {
   "cell_type": "markdown",
   "metadata": {},
   "source": [
    "## Build the model\n",
    "\n",
    "The neural network is created by stacking layers. It requires 3 main architectural decisions:\n",
    "\n",
    "* How to represent the text?\n",
    "* How many layers to use in the model?\n",
    "* How many hidden units to use for each layer?\n",
    "\n",
    "Here the input data consists of sentences. The labels to predict are either 0 or 1.\n",
    "\n",
    "* **One way to represent the text is to convert sentences into embeddings vectors.**\n",
    "\n",
    "### Use a pre-trained text embedding\n",
    "\n",
    "We can use a pre-trained text embedding as the first layer, which will have 3 advantages:\n",
    "\n",
    "* We don't have to worry about text preprocessing.\n",
    "* We can benefit from transfer learning.\n",
    "* The embedding has a fixed size, so it's simpler to process.\n",
    "\n",
    "Here we will use a pre-trained text embedding model from **TensorFlow Hub** called [google/tf2-preview/gnews-swivel-20dim/1](https://tfhub.dev/google/tf2-preview/gnews-swivel-20dim/1)\n",
    "\n",
    "There are 3 other pre-trained models to test:\n",
    "\n",
    "1. [google/tf2-preview/gnews-swivel-20dim-with-oov/1](https://tfhub.dev/google/tf2-preview/gnews-swivel-20dim-with-oov/1) - same as [google/tf2-preview/gnews-swivel-20dim/1](https://tfhub.dev/google/tf2-preview/gnews-swivel-20dim/1), but with 2.5% vocabulary converted to OOV buckets. This can help if vocabulary of the task and vocabulary of the model don't fully overlap.\n",
    "\n",
    "2. [google/tf2-preview/nnlm-en-dim50/1](https://tfhub.dev/google/tf2-preview/nnlm-en-dim50/1) - A much larger model with ~1M vocabulary size and 50 dimensions.\n",
    "\n",
    "3. [google/tf2-preview/nnlm-en-dim128/1](https://tfhub.dev/google/tf2-preview/nnlm-en-dim128/1) - Even larger model with ~1M vocabulary size and 128 dimensions.\n",
    "\n",
    "Let's first create a Keras layer that uses a TensorFlow Hub model to embed the sentences, and try it out on a couple of input examples.\n",
    "\n",
    "Notes:\n",
    "\n",
    "* No matter the length of the input text, the output shape of the embeddings is: **(num_examples, embedding_dimension)**."
   ]
  },
  {
   "cell_type": "code",
   "execution_count": 77,
   "metadata": {},
   "outputs": [
    {
     "data": {
      "text/plain": [
       "<tf.Tensor: shape=(2, 20), dtype=float32, numpy=\n",
       "array([[ 1.765786  , -3.882232  ,  3.9134233 , -1.5557289 , -3.3362343 ,\n",
       "        -1.7357955 , -1.9954445 ,  1.2989551 ,  5.081598  , -1.1041286 ,\n",
       "        -2.0503852 , -0.72675157, -0.65675956,  0.24436149, -3.7208383 ,\n",
       "         2.0954835 ,  2.2969332 , -2.0689783 , -2.9489717 , -1.1315987 ],\n",
       "       [ 1.8804485 , -2.5852382 ,  3.4066997 ,  1.0982676 , -4.056685  ,\n",
       "        -4.891284  , -2.785554  ,  1.3874227 ,  3.8476458 , -0.9256538 ,\n",
       "        -1.896706  ,  1.2113281 ,  0.11474707,  0.76209456, -4.8791065 ,\n",
       "         2.906149  ,  4.7087674 , -2.3652055 , -3.5015898 , -1.6390051 ]],\n",
       "      dtype=float32)>"
      ]
     },
     "execution_count": 77,
     "metadata": {},
     "output_type": "execute_result"
    }
   ],
   "source": [
    "preTrainedEmbedding1 = \"https://tfhub.dev/google/tf2-preview/gnews-swivel-20dim/1\"\n",
    "preTrainedEmbedding2 = \"https://tfhub.dev/google/tf2-preview/nnlm-en-dim50/1\"\n",
    "preTrainedEmbedding3 = \"https://tfhub.dev/google/tf2-preview/nnlm-en-dim128/1\"\n",
    "\n",
    "embedding = preTrainedEmbedding1\n",
    "hub_layer = hub.KerasLayer(embedding, input_shape=[], \n",
    "                           dtype=tf.string, trainable=True)\n",
    "hub_layer(train_examples_batch[:3])"
   ]
  },
  {
   "cell_type": "code",
   "execution_count": 78,
   "metadata": {},
   "outputs": [
    {
     "name": "stdout",
     "output_type": "stream",
     "text": [
      "Model: \"sequential_4\"\n",
      "_________________________________________________________________\n",
      "Layer (type)                 Output Shape              Param #   \n",
      "=================================================================\n",
      "keras_layer_4 (KerasLayer)   (None, 20)                400020    \n",
      "_________________________________________________________________\n",
      "dense_8 (Dense)              (None, 16)                336       \n",
      "_________________________________________________________________\n",
      "dense_9 (Dense)              (None, 1)                 17        \n",
      "=================================================================\n",
      "Total params: 400,373\n",
      "Trainable params: 400,373\n",
      "Non-trainable params: 0\n",
      "_________________________________________________________________\n"
     ]
    }
   ],
   "source": [
    "model = Sequential()\n",
    "model.add(hub_layer)\n",
    "model.add(Dense(16, activation='relu'))\n",
    "model.add(Dense(1))\n",
    "\n",
    "model.summary()"
   ]
  },
  {
   "cell_type": "markdown",
   "metadata": {},
   "source": [
    "The layers are stacked sequentially to build the classifier:\n",
    "\n",
    "1. The first layer is a TensorFlow Hub layer. This layer uses a pre-trained Saved Model to map a sentence into its embedding vector. The pre-trained text embedding model that we are using (google/tf2-preview/gnews-swivel-20dim/1) splits the sentence into tokens, embeds each token and then combines the embedding. The resulting dimensions are: (num_examples, embedding_dimension).\n",
    "\n",
    "2. This fixed-length output vector is piped through a fully-connected (Dense) layer with 16 hidden units.\n",
    "\n",
    "3. The last layer is densely connected with a single output node. Using the relu activation function, this value is a float between 0 and 1, representing a probability, or confidence level.\n",
    "\n",
    "## Loss function and optimizer\n",
    "\n",
    "Let's compile the model.\n",
    "\n",
    "* A model needs a loss function and an optimizer for training. Since this is a binary classification problem and the model outputs a probability (a single-unit layer with a relu activation), we'll use the binary_crossentropy loss function.\n",
    "\n",
    "* This isn't the only choice for a loss function, you could, for instance, choose mean_squared_error. But, generally, binary_crossentropy is better for dealing with probabilities—it measures the \"distance\" between probability distributions, or in our case, between the ground-truth distribution and the predictions.\n",
    "\n",
    "Now, configure the model to use an optimizer and a loss function:"
   ]
  },
  {
   "cell_type": "code",
   "execution_count": 79,
   "metadata": {},
   "outputs": [],
   "source": [
    "model.compile(optimizer='adam',\n",
    "              loss=tf.keras.losses.BinaryCrossentropy(from_logits=True),\n",
    "              metrics=['accuracy'])"
   ]
  },
  {
   "cell_type": "markdown",
   "metadata": {},
   "source": [
    "Train the model for 20 epochs in mini-batches of 512 samples. This is 20 iterations over all samples in the x_train and y_train tensors. While training, monitor the model's loss and accuracy on the 10,000 samples from the validation set:"
   ]
  },
  {
   "cell_type": "code",
   "execution_count": 80,
   "metadata": {},
   "outputs": [
    {
     "name": "stdout",
     "output_type": "stream",
     "text": [
      "Epoch 1/20\n",
      "30/30 [==============================] - 3s 84ms/step - loss: 1.6966 - accuracy: 0.5004 - val_loss: 0.9642 - val_accuracy: 0.5010\n",
      "Epoch 2/20\n",
      "30/30 [==============================] - 2s 74ms/step - loss: 0.7891 - accuracy: 0.5159 - val_loss: 0.7310 - val_accuracy: 0.5273\n",
      "Epoch 3/20\n",
      "30/30 [==============================] - 2s 74ms/step - loss: 0.6900 - accuracy: 0.5643 - val_loss: 0.6595 - val_accuracy: 0.6081\n",
      "Epoch 4/20\n",
      "30/30 [==============================] - 2s 73ms/step - loss: 0.6297 - accuracy: 0.6347 - val_loss: 0.6115 - val_accuracy: 0.6663\n",
      "Epoch 5/20\n",
      "30/30 [==============================] - 2s 72ms/step - loss: 0.5845 - accuracy: 0.6869 - val_loss: 0.5756 - val_accuracy: 0.6989\n",
      "Epoch 6/20\n",
      "30/30 [==============================] - 2s 72ms/step - loss: 0.5484 - accuracy: 0.7155 - val_loss: 0.5435 - val_accuracy: 0.7174\n",
      "Epoch 7/20\n",
      "30/30 [==============================] - 2s 71ms/step - loss: 0.5137 - accuracy: 0.7405 - val_loss: 0.5147 - val_accuracy: 0.7410\n",
      "Epoch 8/20\n",
      "30/30 [==============================] - 2s 74ms/step - loss: 0.4807 - accuracy: 0.7601 - val_loss: 0.4877 - val_accuracy: 0.7578\n",
      "Epoch 9/20\n",
      "30/30 [==============================] - 2s 76ms/step - loss: 0.4506 - accuracy: 0.7809 - val_loss: 0.4625 - val_accuracy: 0.7754\n",
      "Epoch 10/20\n",
      "30/30 [==============================] - 2s 74ms/step - loss: 0.4174 - accuracy: 0.8015 - val_loss: 0.4391 - val_accuracy: 0.7954\n",
      "Epoch 11/20\n",
      "30/30 [==============================] - 2s 75ms/step - loss: 0.3864 - accuracy: 0.8196 - val_loss: 0.4161 - val_accuracy: 0.8102\n",
      "Epoch 12/20\n",
      "30/30 [==============================] - 2s 71ms/step - loss: 0.3562 - accuracy: 0.8387 - val_loss: 0.3947 - val_accuracy: 0.8086\n",
      "Epoch 13/20\n",
      "30/30 [==============================] - 2s 72ms/step - loss: 0.3266 - accuracy: 0.8556 - val_loss: 0.3758 - val_accuracy: 0.8196\n",
      "Epoch 14/20\n",
      "30/30 [==============================] - 2s 72ms/step - loss: 0.2993 - accuracy: 0.8696 - val_loss: 0.3569 - val_accuracy: 0.8352\n",
      "Epoch 15/20\n",
      "30/30 [==============================] - 2s 70ms/step - loss: 0.2750 - accuracy: 0.8853 - val_loss: 0.3430 - val_accuracy: 0.8416\n",
      "Epoch 16/20\n",
      "30/30 [==============================] - 2s 71ms/step - loss: 0.2566 - accuracy: 0.8947 - val_loss: 0.3319 - val_accuracy: 0.8502\n",
      "Epoch 17/20\n",
      "30/30 [==============================] - 2s 71ms/step - loss: 0.2361 - accuracy: 0.9038 - val_loss: 0.3228 - val_accuracy: 0.8561\n",
      "Epoch 18/20\n",
      "30/30 [==============================] - 2s 72ms/step - loss: 0.2198 - accuracy: 0.9137 - val_loss: 0.3167 - val_accuracy: 0.8608\n",
      "Epoch 19/20\n",
      "30/30 [==============================] - 2s 72ms/step - loss: 0.2048 - accuracy: 0.9210 - val_loss: 0.3125 - val_accuracy: 0.8608\n",
      "Epoch 20/20\n",
      "30/30 [==============================] - 2s 71ms/step - loss: 0.1924 - accuracy: 0.9272 - val_loss: 0.3092 - val_accuracy: 0.8678\n"
     ]
    }
   ],
   "source": [
    "history = model.fit(train_data.shuffle(10000).batch(512),\n",
    "                    epochs=20,\n",
    "                    validation_data=validation_data.batch(512),\n",
    "                    verbose=1)"
   ]
  },
  {
   "cell_type": "markdown",
   "metadata": {},
   "source": [
    "## Evaluate the model\n",
    "\n",
    "Let's see how the model performs.\n",
    "\n",
    "2 values will be returned.\n",
    "1. Loss (a number which represents our error, lower values are better)\n",
    "2. Accuracy."
   ]
  },
  {
   "cell_type": "code",
   "execution_count": 81,
   "metadata": {},
   "outputs": [
    {
     "name": "stdout",
     "output_type": "stream",
     "text": [
      "loss: 0.324\n",
      "accuracy: 0.858\n"
     ]
    }
   ],
   "source": [
    "results = model.evaluate(test_data.batch(512), verbose=2)\n",
    "\n",
    "for name, value in zip(model.metrics_names, results):\n",
    "  print(\"%s: %.3f\" % (name, value))"
   ]
  },
  {
   "cell_type": "markdown",
   "metadata": {},
   "source": [
    "## Save and load entire models\n",
    "\n",
    "Model progress can be saved during—and after—training.\n",
    "\n",
    "* This means a model can resume where it left off and avoid long training times.\n",
    "* Saving also means you can share your model and others can recreate your work.\n",
    "\n",
    "When publishing research models and techniques, most machine learning practitioners share:\n",
    "\n",
    "* Code to create the model, and\n",
    "* The trained weights, or parameters, for the model\n",
    "\n",
    "Sharing this data helps others understand how the model works and try it themselves with new data.\n",
    "\n",
    "Notes:\n",
    "\n",
    "* Call `model.save` to save a model's `architecture`, `weights`, and `training configuration` in a single file/folder.\n",
    "\n",
    "* This allows you to export a model so it can be used without access to the original Python code*.\n",
    "\n",
    "* Entire model can be saved in 2 different file formats (`SavedModel` and `HDF5`).\n",
    "\n",
    "* It is to be noted that TensorFlow SavedModel format is the default file format in TF2.x.\n",
    "\n",
    "Usages:\n",
    "\n",
    "* Saving a fully-functional model is very useful—you can load them in TensorFlow.js (Saved Model, HDF5) and then train and run them in web browsers or\n",
    "* Convert them to run on mobile devices using TensorFlow Lite (Saved Model, HDF5).\n",
    "\n",
    "### 1. Save the entire model as a SavedModel."
   ]
  },
  {
   "cell_type": "code",
   "execution_count": 82,
   "metadata": {},
   "outputs": [
    {
     "name": "stdout",
     "output_type": "stream",
     "text": [
      "INFO:tensorflow:Assets written to: saved_model/tct_model/assets\n"
     ]
    },
    {
     "name": "stderr",
     "output_type": "stream",
     "text": [
      "INFO:tensorflow:Assets written to: saved_model/tct_model/assets\n"
     ]
    }
   ],
   "source": [
    "!mkdir -p saved_model\n",
    "\n",
    "model.save('saved_model/tct_model')"
   ]
  },
  {
   "cell_type": "markdown",
   "metadata": {},
   "source": [
    "The SavedModel format is a directory containing:\n",
    "\n",
    "1. A Protobuf binary\n",
    "2. A Tensorflow checkpoint"
   ]
  },
  {
   "cell_type": "code",
   "execution_count": 83,
   "metadata": {},
   "outputs": [
    {
     "name": "stdout",
     "output_type": "stream",
     "text": [
      "\u001b[34massets\u001b[m\u001b[m         saved_model.pb \u001b[34mvariables\u001b[m\u001b[m\r\n"
     ]
    }
   ],
   "source": [
    "!ls saved_model/tct_model"
   ]
  },
  {
   "cell_type": "markdown",
   "metadata": {},
   "source": [
    "### Reload a fresh model from the saved model"
   ]
  },
  {
   "cell_type": "code",
   "execution_count": 84,
   "metadata": {},
   "outputs": [
    {
     "name": "stdout",
     "output_type": "stream",
     "text": [
      "Model: \"sequential_4\"\n",
      "_________________________________________________________________\n",
      "Layer (type)                 Output Shape              Param #   \n",
      "=================================================================\n",
      "keras_layer_4 (KerasLayer)   (None, 20)                400020    \n",
      "_________________________________________________________________\n",
      "dense_8 (Dense)              (None, 16)                336       \n",
      "_________________________________________________________________\n",
      "dense_9 (Dense)              (None, 1)                 17        \n",
      "=================================================================\n",
      "Total params: 400,373\n",
      "Trainable params: 400,373\n",
      "Non-trainable params: 0\n",
      "_________________________________________________________________\n"
     ]
    }
   ],
   "source": [
    "new_model = load_model('saved_model/tct_model')\n",
    "\n",
    "# Check its architecture\n",
    "new_model.summary()"
   ]
  },
  {
   "cell_type": "markdown",
   "metadata": {},
   "source": [
    "The restored model is compiled with the same arguments as the original model. Try running evaluate and predict with the loaded model:"
   ]
  },
  {
   "cell_type": "code",
   "execution_count": 85,
   "metadata": {},
   "outputs": [
    {
     "name": "stdout",
     "output_type": "stream",
     "text": [
      "loss: 0.324\n",
      "accuracy: 0.858\n"
     ]
    }
   ],
   "source": [
    "results = new_model.evaluate(test_data.batch(512), verbose=2)\n",
    "\n",
    "for name, value in zip(new_model.metrics_names, results):\n",
    "  print(\"%s: %.3f\" % (name, value))"
   ]
  },
  {
   "cell_type": "markdown",
   "metadata": {},
   "source": [
    "### 2. Save the entire model as a HDF5 format\n",
    "\n",
    "* The `.h5` extension indicates that the model should be saved to HDF5."
   ]
  },
  {
   "cell_type": "code",
   "execution_count": 86,
   "metadata": {},
   "outputs": [],
   "source": [
    "!mkdir -p hdf5\n",
    "model.save('hdf5/tct_model.h5')"
   ]
  },
  {
   "cell_type": "markdown",
   "metadata": {},
   "source": [
    "Now, recreate the model from that file including its weights and the optimizer"
   ]
  },
  {
   "cell_type": "code",
   "execution_count": 87,
   "metadata": {},
   "outputs": [
    {
     "name": "stdout",
     "output_type": "stream",
     "text": [
      "Model: \"sequential_4\"\n",
      "_________________________________________________________________\n",
      "Layer (type)                 Output Shape              Param #   \n",
      "=================================================================\n",
      "keras_layer_4 (KerasLayer)   (None, 20)                400020    \n",
      "_________________________________________________________________\n",
      "dense_8 (Dense)              (None, 16)                336       \n",
      "_________________________________________________________________\n",
      "dense_9 (Dense)              (None, 1)                 17        \n",
      "=================================================================\n",
      "Total params: 400,373\n",
      "Trainable params: 400,373\n",
      "Non-trainable params: 0\n",
      "_________________________________________________________________\n"
     ]
    }
   ],
   "source": [
    "# GitHub Issue: https://github.com/tensorflow/tensorflow/issues/26835\n",
    "new_h5_model = load_model('hdf5/tct_model.h5', custom_objects={'KerasLayer':hub.KerasLayer})\n",
    "\n",
    "# Check its architecture\n",
    "new_h5_model.summary()"
   ]
  },
  {
   "cell_type": "code",
   "execution_count": 88,
   "metadata": {},
   "outputs": [
    {
     "name": "stdout",
     "output_type": "stream",
     "text": [
      "loss: 0.324\n",
      "accuracy: 0.858\n"
     ]
    }
   ],
   "source": [
    "results = new_model.evaluate(test_data.batch(512), verbose=2)\n",
    "\n",
    "for name, value in zip(new_model.metrics_names, results):\n",
    "  print(\"%s: %.3f\" % (name, value))"
   ]
  },
  {
   "cell_type": "code",
   "execution_count": null,
   "metadata": {},
   "outputs": [],
   "source": []
  }
 ],
 "metadata": {
  "kernelspec": {
   "display_name": "Python 3",
   "language": "python",
   "name": "python3"
  },
  "language_info": {
   "codemirror_mode": {
    "name": "ipython",
    "version": 3
   },
   "file_extension": ".py",
   "mimetype": "text/x-python",
   "name": "python",
   "nbconvert_exporter": "python",
   "pygments_lexer": "ipython3",
   "version": "3.7.4"
  }
 },
 "nbformat": 4,
 "nbformat_minor": 2
}
